{
 "cells": [
  {
   "cell_type": "code",
   "execution_count": 1,
   "id": "a2b09e92-2ccb-4a33-9f06-46130a973414",
   "metadata": {
    "tags": []
   },
   "outputs": [
    {
     "name": "stdin",
     "output_type": "stream",
     "text": [
      "Enter the target number to search for:  2\n",
      "Enter the number of qubits:  1\n"
     ]
    },
    {
     "name": "stdout",
     "output_type": "stream",
     "text": [
      "Oracle Circuit:\n",
      "               \n",
      "q_0: ──────────\n",
      "     ┌───┐┌───┐\n",
      "q_1: ┤ X ├┤ X ├\n",
      "     └───┘└───┘\n",
      "Size of the oracle circuit: 2\n"
     ]
    }
   ],
   "source": [
    "from qiskit import QuantumCircuit, transpile, assemble, Aer, execute\n",
    "\n",
    "# Function to build the oracle circuit\n",
    "def build_oracle_circuit(target_number, number_of_qubits):\n",
    "    # Create a quantum circuit with the specified number of qubits\n",
    "    circuit = QuantumCircuit(number_of_qubits + 1)\n",
    "\n",
    "    # Apply the X-gate to the target qubit\n",
    "    circuit.x(number_of_qubits)\n",
    "\n",
    "    # Apply the controlled-Z gates based on the target number\n",
    "    for i in range(number_of_qubits):\n",
    "        if (target_number & (1 << i)):\n",
    "            circuit.cz(i, number_of_qubits)\n",
    "\n",
    "    # Apply the X-gate to the target qubit again\n",
    "    circuit.x(number_of_qubits)\n",
    "\n",
    "    # Return the constructed circuit\n",
    "    return circuit\n",
    "\n",
    "# Ask the user for the target number and the number of qubits\n",
    "target_number = int(input(\"Enter the target number to search for: \"))\n",
    "number_of_qubits = int(input(\"Enter the number of qubits: \"))\n",
    "\n",
    "# Build the oracle circuit\n",
    "oracle_circuit = build_oracle_circuit(target_number, number_of_qubits)\n",
    "\n",
    "# Display the oracle circuit\n",
    "print(\"Oracle Circuit:\")\n",
    "print(oracle_circuit)\n",
    "\n",
    "# Print the size of the oracle circuit\n",
    "print(\"Size of the oracle circuit:\", oracle_circuit.size())"
   ]
  },
  {
   "cell_type": "code",
   "execution_count": null,
   "id": "17a83021-624c-4b71-ae71-ff5f127b0bb5",
   "metadata": {},
   "outputs": [],
   "source": []
  }
 ],
 "metadata": {
  "kernelspec": {
   "display_name": "Python 3 (ipykernel)",
   "language": "python",
   "name": "python3"
  },
  "language_info": {
   "codemirror_mode": {
    "name": "ipython",
    "version": 3
   },
   "file_extension": ".py",
   "mimetype": "text/x-python",
   "name": "python",
   "nbconvert_exporter": "python",
   "pygments_lexer": "ipython3",
   "version": "3.10.8"
  },
  "widgets": {
   "application/vnd.jupyter.widget-state+json": {
    "state": {},
    "version_major": 2,
    "version_minor": 0
   }
  }
 },
 "nbformat": 4,
 "nbformat_minor": 5
}
